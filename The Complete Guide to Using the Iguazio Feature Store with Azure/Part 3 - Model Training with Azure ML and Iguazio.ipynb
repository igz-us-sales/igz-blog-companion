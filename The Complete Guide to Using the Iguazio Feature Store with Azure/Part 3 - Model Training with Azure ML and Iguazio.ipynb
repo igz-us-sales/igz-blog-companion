{
 "cells": [
  {
   "cell_type": "markdown",
   "metadata": {},
   "source": [
    "# Part 3 - Model Training with Azure ML and Iguazio# 2. Azure AutoML"
   ]
  },
  {
   "cell_type": "markdown",
   "metadata": {},
   "source": [
    "### Initialize MLRun Project"
   ]
  },
  {
   "cell_type": "code",
   "execution_count": 2,
   "metadata": {},
   "outputs": [],
   "source": [
    "import mlrun\n",
    "from mlrun import get_or_create_project, code_to_function, build_function, run_function"
   ]
  },
  {
   "cell_type": "code",
   "execution_count": 3,
   "metadata": {},
   "outputs": [
    {
     "name": "stdout",
     "output_type": "stream",
     "text": [
      "> 2022-02-18 01:26:10,012 [info] loaded project azure-fs-demo from MLRun DB\n"
     ]
    }
   ],
   "source": [
    "project = get_or_create_project(name=\"azure-fs-demo\", context=\"./\")"
   ]
  },
  {
   "cell_type": "markdown",
   "metadata": {},
   "source": [
    "### Code to Function"
   ]
  },
  {
   "cell_type": "code",
   "execution_count": 4,
   "metadata": {},
   "outputs": [
    {
     "data": {
      "text/plain": [
       "'db://azure-fs-demo/azure'"
      ]
     },
     "execution_count": 4,
     "metadata": {},
     "output_type": "execute_result"
    }
   ],
   "source": [
    "# Python to MLRun Function\n",
    "azure_automl = code_to_function(\n",
    "    name=\"azure\",\n",
    "    filename=\"azureml_utils.py\",\n",
    "    kind=\"job\",\n",
    "    image=\".mlrun/func-azure-fs-demo-azure:latest\"\n",
    ")\n",
    "azure_automl.save()"
   ]
  },
  {
   "cell_type": "markdown",
   "metadata": {},
   "source": [
    "### Build Docker Image"
   ]
  },
  {
   "cell_type": "code",
   "execution_count": null,
   "metadata": {},
   "outputs": [],
   "source": [
    "# Build Docker image (if not already built)\n",
    "build_function(\n",
    "    function=\"azure\", \n",
    "    skip_deployed=False,\n",
    "    with_mlrun=False,\n",
    "    base_image=\"mlrun/mlrun:0.8.0\",\n",
    "    requirements=\"requirements.txt\"\n",
    ")"
   ]
  },
  {
   "cell_type": "markdown",
   "metadata": {},
   "source": [
    "### Set Project Secrets"
   ]
  },
  {
   "cell_type": "code",
   "execution_count": 11,
   "metadata": {},
   "outputs": [],
   "source": [
    "mlrun.get_run_db().create_project_secrets(\n",
    "    project.name,\n",
    "    provider=mlrun.api.schemas.SecretProviderName.kubernetes,\n",
    "    secrets={\n",
    "        \"AZURE_TENANT_ID\": \"XXXXXXXX\",\n",
    "        \"AZURE_SERVICE_PRINCIPAL_ID\": \"XXXXXXXX\",\n",
    "        \"AZURE_SERVICE_PRINCIPAL_PASSWORD\": \"XXXXXXXX\",\n",
    "        \"AZURE_SUBSCRIPTION_ID\": \"XXXXXXXX\",\n",
    "        \"AZURE_RESOURCE_GROUP\": \"XXXXXXXX\",\n",
    "        \"AZURE_WORKSPACE_NAME\": \"XXXXXXXX\",\n",
    "        \"AZURE_STORAGE_CONNECTION_STRING\": \"XXXXXXXX\"\n",
    "    }\n",
    ")"
   ]
  },
  {
   "cell_type": "code",
   "execution_count": 7,
   "metadata": {},
   "outputs": [],
   "source": [
    "secrets_spec = mlrun.new_task().with_secrets(\n",
    "    kind='kubernetes',\n",
    "    source=[\n",
    "        'AZURE_TENANT_ID',\n",
    "        'AZURE_SERVICE_PRINCIPAL_ID',\n",
    "        'AZURE_SERVICE_PRINCIPAL_PASSWORD',\n",
    "        'AZURE_SUBSCRIPTION_ID',\n",
    "        'AZURE_RESOURCE_GROUP',\n",
    "        'AZURE_WORKSPACE_NAME',\n",
    "        'AZURE_STORAGE_CONNECTION_STRING'\n",
    "    ]\n",
    ")"
   ]
  },
  {
   "cell_type": "markdown",
   "metadata": {},
   "source": [
    "### AutoML Settings"
   ]
  },
  {
   "cell_type": "code",
   "execution_count": 8,
   "metadata": {},
   "outputs": [],
   "source": [
    "# Azure ML settings for model training\n",
    "automl_settings = {\n",
    "    \"task\": 'classification',\n",
    "    \"enable_early_stopping\" : False,\n",
    "    \"allowed_models\": ['LogisticRegression', 'SGD', 'SVM'],\n",
    "    \"iterations\" : 5,\n",
    "    \"n_cross_validations\": 5,\n",
    "    \"primary_metric\": 'accuracy',\n",
    "    \"featurization\": 'off',\n",
    "    \"model_explainability\": False,\n",
    "    \"enable_voting_ensemble\": False,\n",
    "    \"enable_stack_ensemble\": False\n",
    "}\n",
    "\n",
    "# MLRun input for dataset - FeatureVector that we previously created\n",
    "inputs={\n",
    "    \"dataset\" : \"store://feature-vectors/azure-fs-demo/heart_disease_vec:latest\"\n",
    "}\n",
    "\n",
    "# MLRun parameters for job\n",
    "params={\n",
    "    \"experiment_name\" : \"azure-iguazio-blog\",\n",
    "    \"cpu_cluster_name\" : \"azureml-cpu\",\n",
    "    \"dataset_name\" : \"iris\",\n",
    "    \"dataset_description\" : \"iris training data\",\n",
    "    \"register_model_name\": \"iris-model\",\n",
    "    \"label_column_name\" : \"target\",\n",
    "    \"save_n_models\" : 3,\n",
    "    \"automl_settings\" : automl_settings\n",
    "}"
   ]
  },
  {
   "cell_type": "markdown",
   "metadata": {},
   "source": [
    "### Run AutoML Training Job"
   ]
  },
  {
   "cell_type": "code",
   "execution_count": 10,
   "metadata": {},
   "outputs": [
    {
     "name": "stdout",
     "output_type": "stream",
     "text": [
      "> 2022-02-18 01:29:48,376 [info] starting run azure-train uid=464630c52a3142b18a9ff35178af38ef DB=http://mlrun-api:8080\n",
      "> 2022-02-18 01:29:48,702 [info] Job is running in the background, pod: azure-train-l58pd\n",
      "> 2022-02-18 01:29:51,994 [info] Server and client versions are not the same: {'parsed_server_version': VersionInfo(major=0, minor=9, patch=1, prerelease=None, build=None), 'parsed_client_version': VersionInfo(major=0, minor=8, patch=0, prerelease=None, build=None)}\n",
      "> 2022-02-18 01:29:53,986 [info] Loading AzureML Workspace\n",
      "> 2022-02-18 01:29:56,278 [info] Initializing AzureML experiment azure-iguazio-blog\n",
      "> 2022-02-18 01:29:56,658 [info] Initializing AzureML compute target azureml-cpu\n",
      "> 2022-02-18 01:30:04,727 [info] Found existing cluster, will use it.\n",
      "Succeeded\n",
      "AmlCompute wait for completion finished\n",
      "\n",
      "Minimum number of nodes requested have been provisioned\n",
      "> 2022-02-18 01:30:04,891 [info] Connecting to AzureML experiment default datastore\n",
      "> 2022-02-18 01:30:05,064 [info] Retrieving feature vector and uploading to Azure blob storage: az://azureml-blobstore-27f8977b-4946-4ca0-bdc5-5a685d2fe8d7/iris.parquet\n",
      "> 2022-02-18 01:30:05,969 [info] Registering dataset iris in Azure ML\n",
      "> 2022-02-18 01:30:09,568 [info] Setting up experiment parameters\n",
      "> 2022-02-18 01:30:09,749 [info] Submitting and running experiment\n",
      "Submitting remote run.\n",
      "Parent Run ID: AutoML_6fb275bf-e161-4d97-bee4-48e168f53af3\n",
      "https://ml.azure.com/runs/AutoML_6fb275bf-e161-4d97-bee4-48e168f53af3?wsid=/subscriptions/8d81bc0b-6abd-4395-be83-000251d9fdbe/resourcegroups/nick/workspaces/NickAzureML&tid=af053911-a8b7-450d-9f58-0c08567d4769\n",
      "\n",
      "Current status: ModelSelection. Beginning model selection.\n",
      "\n",
      "********************************************************************************************\n",
      "DATA GUARDRAILS: \n",
      "\n",
      "TYPE:         Class balancing detection\n",
      "STATUS:       PASSED\n",
      "DESCRIPTION:  Your inputs were analyzed, and all classes are balanced in your training data.\n",
      "              Learn more about imbalanced data: https://aka.ms/AutomatedMLImbalancedData\n",
      "\n",
      "********************************************************************************************\n",
      "\n",
      "********************************************************************************************\n",
      "ITER: The iteration being evaluated.\n",
      "PIPELINE: A summary description of the pipeline being evaluated.\n",
      "DURATION: Time taken for the current iteration.\n",
      "METRIC: The result of computing score on the fitted pipeline.\n",
      "BEST: The best observed score thus far.\n",
      "********************************************************************************************\n",
      "\n",
      " ITER   PIPELINE                                       DURATION            METRIC      BEST\n",
      "    0   RobustScaler LogisticRegression                0:00:08             0.8522    0.8522\n",
      "    1   StandardScalerWrapper SVM                      0:00:10             1.0000    1.0000\n",
      "    2   StandardScalerWrapper LogisticRegression       0:00:09             0.8595    1.0000\n",
      "    3   MaxAbsScaler LogisticRegression                0:00:08             0.8574    1.0000\n",
      "    4   MaxAbsScaler LogisticRegression                0:00:08             0.8595    1.0000\n",
      "> 2022-02-18 01:39:01,265 [info] Registering model\n",
      "> 2022-02-18 01:39:02,176 [info] Registered model with name 'iris-model', id 'iris-model:187', version '187'\n",
      "> 2022-02-18 01:39:02,176 [info] Downloading model iris-model:187\n",
      "> 2022-02-18 01:39:06,790 [info] Logging SVCWrapper model to MLRun\n",
      "> 2022-02-18 01:39:07,513 [info] Registering model\n",
      "> 2022-02-18 01:39:09,087 [info] Registered model with name 'iris-model', id 'iris-model:188', version '188'\n",
      "> 2022-02-18 01:39:09,087 [info] Downloading model iris-model:188\n",
      "> 2022-02-18 01:39:13,839 [info] Logging LogisticRegression model to MLRun\n",
      "> 2022-02-18 01:39:14,499 [info] Registering model\n",
      "> 2022-02-18 01:39:16,136 [info] Registered model with name 'iris-model', id 'iris-model:189', version '189'\n",
      "> 2022-02-18 01:39:16,137 [info] Downloading model iris-model:189\n",
      "> 2022-02-18 01:39:20,765 [info] Logging LogisticRegression model to MLRun\n",
      "> 2022-02-18 01:39:22,041 [info] run executed, status=completed\n",
      "final state: completed\n"
     ]
    },
    {
     "data": {
      "text/html": [
       "<style>\n",
       ".dictlist {\n",
       "  background-color: #4EC64B;\n",
       "  text-align: center;\n",
       "  margin: 4px;\n",
       "  border-radius: 3px; padding: 0px 3px 1px 3px; display: inline-block;}\n",
       ".artifact {\n",
       "  cursor: pointer;\n",
       "  background-color: #4EC64B;\n",
       "  text-align: left;\n",
       "  margin: 4px; border-radius: 3px; padding: 0px 3px 1px 3px; display: inline-block;\n",
       "}\n",
       "div.block.hidden {\n",
       "  display: none;\n",
       "}\n",
       ".clickable {\n",
       "  cursor: pointer;\n",
       "}\n",
       ".ellipsis {\n",
       "  display: inline-block;\n",
       "  max-width: 60px;\n",
       "  white-space: nowrap;\n",
       "  overflow: hidden;\n",
       "  text-overflow: ellipsis;\n",
       "}\n",
       ".master-wrapper {\n",
       "  display: flex;\n",
       "  flex-flow: row nowrap;\n",
       "  justify-content: flex-start;\n",
       "  align-items: stretch;\n",
       "}\n",
       ".master-tbl {\n",
       "  flex: 3\n",
       "}\n",
       ".master-wrapper > div {\n",
       "  margin: 4px;\n",
       "  padding: 10px;\n",
       "}\n",
       "iframe.fileview {\n",
       "  border: 0 none;\n",
       "  height: 100%;\n",
       "  width: 100%;\n",
       "  white-space: pre-wrap;\n",
       "}\n",
       ".pane-header-title {\n",
       "  width: 80%;\n",
       "  font-weight: 500;\n",
       "}\n",
       ".pane-header {\n",
       "  line-height: 1;\n",
       "  background-color: #4EC64B;\n",
       "  padding: 3px;\n",
       "}\n",
       ".pane-header .close {\n",
       "  font-size: 20px;\n",
       "  font-weight: 700;\n",
       "  float: right;\n",
       "  margin-top: -5px;\n",
       "}\n",
       ".master-wrapper .right-pane {\n",
       "  border: 1px inset silver;\n",
       "  width: 40%;\n",
       "  min-height: 300px;\n",
       "  flex: 3\n",
       "  min-width: 500px;\n",
       "}\n",
       ".master-wrapper * {\n",
       "  box-sizing: border-box;\n",
       "}\n",
       "</style><script>\n",
       "function copyToClipboard(fld) {\n",
       "    if (document.queryCommandSupported && document.queryCommandSupported('copy')) {\n",
       "        var textarea = document.createElement('textarea');\n",
       "        textarea.textContent = fld.innerHTML;\n",
       "        textarea.style.position = 'fixed';\n",
       "        document.body.appendChild(textarea);\n",
       "        textarea.select();\n",
       "\n",
       "        try {\n",
       "            return document.execCommand('copy'); // Security exception may be thrown by some browsers.\n",
       "        } catch (ex) {\n",
       "\n",
       "        } finally {\n",
       "            document.body.removeChild(textarea);\n",
       "        }\n",
       "    }\n",
       "}\n",
       "function expandPanel(el) {\n",
       "  const panelName = \"#\" + el.getAttribute('paneName');\n",
       "  console.log(el.title);\n",
       "\n",
       "  document.querySelector(panelName + \"-title\").innerHTML = el.title\n",
       "  iframe = document.querySelector(panelName + \"-body\");\n",
       "\n",
       "  const tblcss = `<style> body { font-family: Arial, Helvetica, sans-serif;}\n",
       "    #csv { margin-bottom: 15px; }\n",
       "    #csv table { border-collapse: collapse;}\n",
       "    #csv table td { padding: 4px 8px; border: 1px solid silver;} </style>`;\n",
       "\n",
       "  function csvToHtmlTable(str) {\n",
       "    return '<div id=\"csv\"><table><tr><td>' +  str.replace(/[\\n\\r]+$/g, '').replace(/[\\n\\r]+/g, '</td></tr><tr><td>')\n",
       "      .replace(/,/g, '</td><td>') + '</td></tr></table></div>';\n",
       "  }\n",
       "\n",
       "  function reqListener () {\n",
       "    if (el.title.endsWith(\".csv\")) {\n",
       "      iframe.setAttribute(\"srcdoc\", tblcss + csvToHtmlTable(this.responseText));\n",
       "    } else {\n",
       "      iframe.setAttribute(\"srcdoc\", this.responseText);\n",
       "    }\n",
       "    console.log(this.responseText);\n",
       "  }\n",
       "\n",
       "  const oReq = new XMLHttpRequest();\n",
       "  oReq.addEventListener(\"load\", reqListener);\n",
       "  oReq.open(\"GET\", el.title);\n",
       "  oReq.send();\n",
       "\n",
       "\n",
       "  //iframe.src = el.title;\n",
       "  const resultPane = document.querySelector(panelName + \"-pane\");\n",
       "  if (resultPane.classList.contains(\"hidden\")) {\n",
       "    resultPane.classList.remove(\"hidden\");\n",
       "  }\n",
       "}\n",
       "function closePanel(el) {\n",
       "  const panelName = \"#\" + el.getAttribute('paneName')\n",
       "  const resultPane = document.querySelector(panelName + \"-pane\");\n",
       "  if (!resultPane.classList.contains(\"hidden\")) {\n",
       "    resultPane.classList.add(\"hidden\");\n",
       "  }\n",
       "}\n",
       "\n",
       "</script>\n",
       "<div class=\"master-wrapper\">\n",
       "  <div class=\"block master-tbl\"><div>\n",
       "<style scoped>\n",
       "    .dataframe tbody tr th:only-of-type {\n",
       "        vertical-align: middle;\n",
       "    }\n",
       "\n",
       "    .dataframe tbody tr th {\n",
       "        vertical-align: top;\n",
       "    }\n",
       "\n",
       "    .dataframe thead th {\n",
       "        text-align: right;\n",
       "    }\n",
       "</style>\n",
       "<table border=\"1\" class=\"dataframe\">\n",
       "  <thead>\n",
       "    <tr style=\"text-align: right;\">\n",
       "      <th>project</th>\n",
       "      <th>uid</th>\n",
       "      <th>iter</th>\n",
       "      <th>start</th>\n",
       "      <th>state</th>\n",
       "      <th>name</th>\n",
       "      <th>labels</th>\n",
       "      <th>inputs</th>\n",
       "      <th>parameters</th>\n",
       "      <th>results</th>\n",
       "      <th>artifacts</th>\n",
       "    </tr>\n",
       "  </thead>\n",
       "  <tbody>\n",
       "    <tr>\n",
       "      <td>azure-fs-demo</td>\n",
       "      <td><div title=\"464630c52a3142b18a9ff35178af38ef\"><a href=\"https://dashboard.default-tenant.app.us-sales-32.iguazio-cd0.com/mlprojects/azure-fs-demo/jobs/monitor/464630c52a3142b18a9ff35178af38ef/overview\" target=\"_blank\" >...78af38ef</a></div></td>\n",
       "      <td>0</td>\n",
       "      <td>Feb 18 01:29:53</td>\n",
       "      <td>completed</td>\n",
       "      <td>azure-train</td>\n",
       "      <td><div class=\"dictlist\">workflow=None</div><div class=\"dictlist\">v3io_user=nick</div><div class=\"dictlist\">kind=job</div><div class=\"dictlist\">owner=nick</div><div class=\"dictlist\">host=azure-train-l58pd</div></td>\n",
       "      <td><div title=\"store://feature-vectors/azure-fs-demo/heart_disease_vec:latest\">dataset</div></td>\n",
       "      <td><div class=\"dictlist\">experiment_name=azure-iguazio-blog</div><div class=\"dictlist\">cpu_cluster_name=azureml-cpu</div><div class=\"dictlist\">dataset_name=iris</div><div class=\"dictlist\">dataset_description=iris training data</div><div class=\"dictlist\">register_model_name=iris-model</div><div class=\"dictlist\">label_column_name=target</div><div class=\"dictlist\">save_n_models=3</div><div class=\"dictlist\">automl_settings={'task': 'classification', 'enable_early_stopping': False, 'allowed_models': ['LogisticRegression', 'SGD', 'SVM'], 'iterations': 5, 'n_cross_validations': 5, 'primary_metric': 'accuracy', 'featurization': 'off', 'model_explainability': False, 'enable_voting_ensemble': False, 'enable_stack_ensemble': False}</div></td>\n",
       "      <td><div class=\"dictlist\">dataset_blob_path=az://azureml-blobstore-27f8977b-4946-4ca0-bdc5-5a685d2fe8d7/iris.parquet</div><div class=\"dictlist\">best_iteration=1</div><div class=\"dictlist\">precision_score_macro=1.0</div><div class=\"dictlist\">matthews_correlation=1.0</div><div class=\"dictlist\">recall_score_micro=1.0</div><div class=\"dictlist\">auc_micro=1.0</div><div class=\"dictlist\">precision_score_micro=1.0</div><div class=\"dictlist\">f1_score_micro=1.0</div><div class=\"dictlist\">accuracy=1.0</div><div class=\"dictlist\">weighted_accuracy=1.0</div><div class=\"dictlist\">average_precision_score_macro=1.0</div><div class=\"dictlist\">f1_score_macro=1.0</div><div class=\"dictlist\">precision_score_weighted=1.0</div><div class=\"dictlist\">auc_weighted=1.0</div><div class=\"dictlist\">recall_score_weighted=1.0</div><div class=\"dictlist\">average_precision_score_weighted=1.0</div><div class=\"dictlist\">norm_macro_recall=1.0</div><div class=\"dictlist\">balanced_accuracy=1.0</div><div class=\"dictlist\">f1_score_weighted=1.0</div><div class=\"dictlist\">auc_macro=1.0</div><div class=\"dictlist\">recall_score_macro=1.0</div><div class=\"dictlist\">log_loss=0.027781935797568047</div><div class=\"dictlist\">average_precision_score_micro=1.0</div></td>\n",
       "      <td><div title=\"v3io:///projects/azure-fs-demo/artifacts/models/1/\">model</div><div title=\"v3io:///projects/azure-fs-demo/artifacts/models/\">model_0</div><div title=\"v3io:///projects/azure-fs-demo/artifacts/models/\">model_1</div><div title=\"v3io:///projects/azure-fs-demo/artifacts/models/\">model_2</div></td>\n",
       "    </tr>\n",
       "  </tbody>\n",
       "</table>\n",
       "</div></div>\n",
       "  <div id=\"resultaa98a670-pane\" class=\"right-pane block hidden\">\n",
       "    <div class=\"pane-header\">\n",
       "      <span id=\"resultaa98a670-title\" class=\"pane-header-title\">Title</span>\n",
       "      <span onclick=\"closePanel(this)\" paneName=\"resultaa98a670\" class=\"close clickable\">&times;</span>\n",
       "    </div>\n",
       "    <iframe class=\"fileview\" id=\"resultaa98a670-body\"></iframe>\n",
       "  </div>\n",
       "</div>\n"
      ],
      "text/plain": [
       "<IPython.core.display.HTML object>"
      ]
     },
     "metadata": {},
     "output_type": "display_data"
    },
    {
     "name": "stdout",
     "output_type": "stream",
     "text": [
      "\n"
     ]
    },
    {
     "data": {
      "text/html": [
       "<b> > to track results use the .show() or .logs() methods  or <a href=\"https://dashboard.default-tenant.app.us-sales-32.iguazio-cd0.com/mlprojects/azure-fs-demo/jobs/monitor/464630c52a3142b18a9ff35178af38ef/overview\" target=\"_blank\">click here</a> to open in UI</b>"
      ],
      "text/plain": [
       "<IPython.core.display.HTML object>"
      ]
     },
     "metadata": {},
     "output_type": "display_data"
    },
    {
     "name": "stdout",
     "output_type": "stream",
     "text": [
      "> 2022-02-18 01:39:23,610 [info] run executed, status=completed\n"
     ]
    },
    {
     "data": {
      "text/plain": [
       "<mlrun.model.RunObject at 0x7f6bf7f9a9d0>"
      ]
     },
     "execution_count": 10,
     "metadata": {},
     "output_type": "execute_result"
    }
   ],
   "source": [
    "run_function(\n",
    "    function=\"azure\",\n",
    "    handler=\"train\",\n",
    "    inputs=inputs,\n",
    "    params=params,\n",
    "    base_task=secrets_spec\n",
    ")"
   ]
  }
 ],
 "metadata": {
  "kernelspec": {
   "display_name": "Python [conda env:root] *",
   "language": "python",
   "name": "conda-root-py"
  },
  "language_info": {
   "codemirror_mode": {
    "name": "ipython",
    "version": 3
   },
   "file_extension": ".py",
   "mimetype": "text/x-python",
   "name": "python",
   "nbconvert_exporter": "python",
   "pygments_lexer": "ipython3",
   "version": "3.7.6"
  }
 },
 "nbformat": 4,
 "nbformat_minor": 4
}
